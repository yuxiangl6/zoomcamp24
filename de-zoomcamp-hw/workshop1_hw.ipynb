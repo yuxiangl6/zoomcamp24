{
 "cells": [
  {
   "cell_type": "markdown",
   "metadata": {
    "id": "mrTFv5nPClXh"
   },
   "source": [
    "# **Homework**: Data talks club data engineering zoomcamp Data loading workshop\n",
    "\n",
    "Hello folks, let's practice what we learned - Loading data with the best practices of data engineering.\n",
    "\n",
    "Here are the exercises we will do\n",
    "\n",
    "\n"
   ]
  },
  {
   "cell_type": "code",
   "execution_count": 1,
   "metadata": {},
   "outputs": [],
   "source": [
    "%%capture\n",
    "!pip install dlt[duckdb]"
   ]
  },
  {
   "cell_type": "code",
   "execution_count": 2,
   "metadata": {},
   "outputs": [],
   "source": [
    "import dlt\n",
    "import duckdb"
   ]
  },
  {
   "cell_type": "markdown",
   "metadata": {
    "id": "wLF4iXf-NR7t"
   },
   "source": [
    "# 1. Use a generator\n",
    "\n",
    "Remember the concept of generator? Let's practice using them to futher our understanding of how they work.\n",
    "\n",
    "Let's define a generator and then run it as practice.\n",
    "\n",
    "**Answer the following questions:**\n",
    "\n",
    "- **Question 1: What is the sum of the outputs of the generator for limit = 5?**\n",
    "- **Question 2: What is the 13th number yielded**\n",
    "\n",
    "I suggest practicing these questions without GPT as the purpose is to further your learning."
   ]
  },
  {
   "cell_type": "code",
   "execution_count": 3,
   "metadata": {
    "colab": {
     "base_uri": "https://localhost:8080/"
    },
    "id": "wLng-bDJN4jf",
    "outputId": "547683cb-5f56-4815-a903-d0d9578eb1f9"
   },
   "outputs": [
    {
     "name": "stdout",
     "output_type": "stream",
     "text": [
      "1.0\n",
      "1.4142135623730951\n",
      "1.7320508075688772\n",
      "2.0\n",
      "2.23606797749979\n"
     ]
    }
   ],
   "source": [
    "def square_root_generator(limit):\n",
    "    n = 1\n",
    "    while n <= limit:\n",
    "        yield n ** 0.5\n",
    "        n += 1\n",
    "\n",
    "# Example usage:\n",
    "limit = 5\n",
    "generator = square_root_generator(limit)\n",
    "\n",
    "for sqrt_value in generator:\n",
    "    print(sqrt_value)\n",
    "    \n",
    "# total = sum(sqrt_value for sqrt_value in generator)\n",
    "# print(total)"
   ]
  },
  {
   "cell_type": "code",
   "execution_count": 4,
   "metadata": {},
   "outputs": [
    {
     "data": {
      "text/plain": [
       "8.382332347441762"
      ]
     },
     "execution_count": 4,
     "metadata": {},
     "output_type": "execute_result"
    }
   ],
   "source": [
    "1.0 + 1.4142135623730951 + 1.7320508075688772 + 2.0 + 2.23606797749979"
   ]
  },
  {
   "cell_type": "code",
   "execution_count": 5,
   "metadata": {},
   "outputs": [
    {
     "name": "stdout",
     "output_type": "stream",
     "text": [
      "1.0\n",
      "1.4142135623730951\n",
      "1.7320508075688772\n",
      "2.0\n",
      "2.23606797749979\n",
      "2.449489742783178\n",
      "2.6457513110645907\n",
      "2.8284271247461903\n",
      "3.0\n",
      "3.1622776601683795\n",
      "3.3166247903554\n",
      "3.4641016151377544\n",
      "3.605551275463989\n"
     ]
    }
   ],
   "source": [
    "def square_root_generator(limit):\n",
    "    n = 1\n",
    "    while n <= limit:\n",
    "        yield n ** 0.5\n",
    "        n += 1\n",
    "\n",
    "# Example usage:\n",
    "limit = 13\n",
    "generator = square_root_generator(limit)\n",
    "\n",
    "for sqrt_value in generator:\n",
    "    print(sqrt_value)"
   ]
  },
  {
   "cell_type": "markdown",
   "metadata": {
    "id": "vjWhILzGJMpK"
   },
   "source": [
    "# 2. Append a generator to a table with existing data\n",
    "\n",
    "\n",
    "Below you have 2 generators. You will be tasked to load them to duckdb and answer some questions from the data\n",
    "\n",
    "1. Load the first generator and calculate the sum of ages of all people. Make sure to only load it once.\n",
    "2. Append the second generator to the same table as the first.\n",
    "3. **After correctly appending the data, calculate the sum of all ages of people.**\n",
    "\n",
    "\n"
   ]
  },
  {
   "cell_type": "code",
   "execution_count": 6,
   "metadata": {
    "colab": {
     "base_uri": "https://localhost:8080/"
    },
    "id": "2MoaQcdLBEk6",
    "outputId": "d2b93dc1-d83f-44ea-aeff-fdf51d75f7aa"
   },
   "outputs": [
    {
     "name": "stdout",
     "output_type": "stream",
     "text": [
      "{'ID': 1, 'Name': 'Person_1', 'Age': 26, 'City': 'City_A'}\n",
      "{'ID': 2, 'Name': 'Person_2', 'Age': 27, 'City': 'City_A'}\n",
      "{'ID': 3, 'Name': 'Person_3', 'Age': 28, 'City': 'City_A'}\n",
      "{'ID': 4, 'Name': 'Person_4', 'Age': 29, 'City': 'City_A'}\n",
      "{'ID': 5, 'Name': 'Person_5', 'Age': 30, 'City': 'City_A'}\n"
     ]
    }
   ],
   "source": [
    "def people_1():\n",
    "    for i in range(1, 6):\n",
    "        yield {\"ID\": i, \"Name\": f\"Person_{i}\", \"Age\": 25 + i, \"City\": \"City_A\"}\n",
    "\n",
    "for person in people_1():\n",
    "    print(person)"
   ]
  },
  {
   "cell_type": "code",
   "execution_count": 7,
   "metadata": {},
   "outputs": [
    {
     "name": "stdout",
     "output_type": "stream",
     "text": [
      "Pipeline dlt_ipykernel_launcher load step completed in 0.42 seconds\n",
      "1 load package(s) were loaded to destination duckdb and into dataset generators\n",
      "The duckdb destination used duckdb:////workspaces/zoomcamp24/data-engineering-zoomcamp/cohorts/2024/workshops/dlt_resources/dlt_ipykernel_launcher.duckdb location to store data\n",
      "Load package 1708245594.1514788 is LOADED and contains no failed jobs\n"
     ]
    }
   ],
   "source": [
    "# define the connection to load to.\n",
    "# We now use duckdb, but you can switch to Bigquery later\n",
    "generators_pipeline = dlt.pipeline(destination='duckdb', dataset_name='generators')\n",
    "\n",
    "\n",
    "# we can load any generator to a table at the pipeline destnation as follows:\n",
    "info = generators_pipeline.run(people_1(),\n",
    "\t\t\t\t\t\t\t\t\t\ttable_name=\"people_1\",\n",
    "\t\t\t\t\t\t\t\t\t\twrite_disposition=\"replace\")\n",
    "\n",
    "# the outcome metadata is returned by the load and we can inspect it by printing it.\n",
    "print(info)"
   ]
  },
  {
   "cell_type": "code",
   "execution_count": 8,
   "metadata": {},
   "outputs": [
    {
     "name": "stdout",
     "output_type": "stream",
     "text": [
      "Loaded tables: \n"
     ]
    },
    {
     "data": {
      "text/plain": [
       "┌─────────────────────┐\n",
       "│        name         │\n",
       "│       varchar       │\n",
       "├─────────────────────┤\n",
       "│ _dlt_loads          │\n",
       "│ _dlt_pipeline_state │\n",
       "│ _dlt_version        │\n",
       "│ http_download       │\n",
       "│ people_1            │\n",
       "│ people_2            │\n",
       "│ people_merge        │\n",
       "│ stream_download     │\n",
       "└─────────────────────┘"
      ]
     },
     "metadata": {},
     "output_type": "display_data"
    },
    {
     "name": "stdout",
     "output_type": "stream",
     "text": [
      "\n",
      "\n",
      "\n",
      " people_1 table below:\n"
     ]
    },
    {
     "data": {
      "text/html": [
       "<div>\n",
       "<style scoped>\n",
       "    .dataframe tbody tr th:only-of-type {\n",
       "        vertical-align: middle;\n",
       "    }\n",
       "\n",
       "    .dataframe tbody tr th {\n",
       "        vertical-align: top;\n",
       "    }\n",
       "\n",
       "    .dataframe thead th {\n",
       "        text-align: right;\n",
       "    }\n",
       "</style>\n",
       "<table border=\"1\" class=\"dataframe\">\n",
       "  <thead>\n",
       "    <tr style=\"text-align: right;\">\n",
       "      <th></th>\n",
       "      <th>id</th>\n",
       "      <th>name</th>\n",
       "      <th>age</th>\n",
       "      <th>city</th>\n",
       "      <th>_dlt_load_id</th>\n",
       "      <th>_dlt_id</th>\n",
       "    </tr>\n",
       "  </thead>\n",
       "  <tbody>\n",
       "    <tr>\n",
       "      <th>0</th>\n",
       "      <td>1</td>\n",
       "      <td>Person_1</td>\n",
       "      <td>26</td>\n",
       "      <td>City_A</td>\n",
       "      <td>1708245594.1514788</td>\n",
       "      <td>KH0E++dqCikA/A</td>\n",
       "    </tr>\n",
       "    <tr>\n",
       "      <th>1</th>\n",
       "      <td>2</td>\n",
       "      <td>Person_2</td>\n",
       "      <td>27</td>\n",
       "      <td>City_A</td>\n",
       "      <td>1708245594.1514788</td>\n",
       "      <td>NoHBC+mCoo5TdQ</td>\n",
       "    </tr>\n",
       "    <tr>\n",
       "      <th>2</th>\n",
       "      <td>3</td>\n",
       "      <td>Person_3</td>\n",
       "      <td>28</td>\n",
       "      <td>City_A</td>\n",
       "      <td>1708245594.1514788</td>\n",
       "      <td>ZGdNcOOerYg60A</td>\n",
       "    </tr>\n",
       "    <tr>\n",
       "      <th>3</th>\n",
       "      <td>4</td>\n",
       "      <td>Person_4</td>\n",
       "      <td>29</td>\n",
       "      <td>City_A</td>\n",
       "      <td>1708245594.1514788</td>\n",
       "      <td>ttfc3SMN2ENJPA</td>\n",
       "    </tr>\n",
       "    <tr>\n",
       "      <th>4</th>\n",
       "      <td>5</td>\n",
       "      <td>Person_5</td>\n",
       "      <td>30</td>\n",
       "      <td>City_A</td>\n",
       "      <td>1708245594.1514788</td>\n",
       "      <td>QGvFA44fWP88Iw</td>\n",
       "    </tr>\n",
       "  </tbody>\n",
       "</table>\n",
       "</div>"
      ],
      "text/plain": [
       "   id      name  age    city        _dlt_load_id         _dlt_id\n",
       "0   1  Person_1   26  City_A  1708245594.1514788  KH0E++dqCikA/A\n",
       "1   2  Person_2   27  City_A  1708245594.1514788  NoHBC+mCoo5TdQ\n",
       "2   3  Person_3   28  City_A  1708245594.1514788  ZGdNcOOerYg60A\n",
       "3   4  Person_4   29  City_A  1708245594.1514788  ttfc3SMN2ENJPA\n",
       "4   5  Person_5   30  City_A  1708245594.1514788  QGvFA44fWP88Iw"
      ]
     },
     "metadata": {},
     "output_type": "display_data"
    }
   ],
   "source": [
    "# show outcome\n",
    "\n",
    "conn = duckdb.connect(f\"{generators_pipeline.pipeline_name}.duckdb\")\n",
    "\n",
    "# let's see the tables\n",
    "conn.sql(f\"SET search_path = '{generators_pipeline.dataset_name}'\")\n",
    "print('Loaded tables: ')\n",
    "display(conn.sql(\"show tables\"))\n",
    "\n",
    "# and the data\n",
    "\n",
    "print(\"\\n\\n\\n people_1 table below:\")\n",
    "\n",
    "people_1 = conn.sql(\"SELECT * FROM people_1\").df()\n",
    "display(people_1)"
   ]
  },
  {
   "cell_type": "code",
   "execution_count": 9,
   "metadata": {},
   "outputs": [
    {
     "name": "stdout",
     "output_type": "stream",
     "text": [
      "{'ID': 3, 'Name': 'Person_3', 'Age': 33, 'City': 'City_B', 'Occupation': 'Job_3'}\n",
      "{'ID': 4, 'Name': 'Person_4', 'Age': 34, 'City': 'City_B', 'Occupation': 'Job_4'}\n",
      "{'ID': 5, 'Name': 'Person_5', 'Age': 35, 'City': 'City_B', 'Occupation': 'Job_5'}\n",
      "{'ID': 6, 'Name': 'Person_6', 'Age': 36, 'City': 'City_B', 'Occupation': 'Job_6'}\n",
      "{'ID': 7, 'Name': 'Person_7', 'Age': 37, 'City': 'City_B', 'Occupation': 'Job_7'}\n",
      "{'ID': 8, 'Name': 'Person_8', 'Age': 38, 'City': 'City_B', 'Occupation': 'Job_8'}\n"
     ]
    }
   ],
   "source": [
    "def people_2():\n",
    "    for i in range(3, 9):\n",
    "        yield {\"ID\": i, \"Name\": f\"Person_{i}\", \"Age\": 30 + i, \"City\": \"City_B\", \"Occupation\": f\"Job_{i}\"}\n",
    "\n",
    "\n",
    "for person in people_2():\n",
    "    print(person)"
   ]
  },
  {
   "cell_type": "code",
   "execution_count": 10,
   "metadata": {},
   "outputs": [
    {
     "name": "stdout",
     "output_type": "stream",
     "text": [
      "Pipeline dlt_ipykernel_launcher load step completed in 0.23 seconds\n",
      "1 load package(s) were loaded to destination duckdb and into dataset generators\n",
      "The duckdb destination used duckdb:////workspaces/zoomcamp24/data-engineering-zoomcamp/cohorts/2024/workshops/dlt_resources/dlt_ipykernel_launcher.duckdb location to store data\n",
      "Load package 1708245604.642668 is LOADED and contains no failed jobs\n"
     ]
    }
   ],
   "source": [
    "# define the connection to load to.\n",
    "# We now use duckdb, but you can switch to Bigquery later\n",
    "generators_pipeline = dlt.pipeline(destination='duckdb', dataset_name='generators')\n",
    "\n",
    "\n",
    "# we can load any generator to a table at the pipeline destnation as follows:\n",
    "info = generators_pipeline.run(people_2(),\n",
    "\t\t\t\t\t\t\t\t\t\ttable_name=\"people_2\",\n",
    "\t\t\t\t\t\t\t\t\t\twrite_disposition=\"replace\")\n",
    "\n",
    "# the outcome metadata is returned by the load and we can inspect it by printing it.\n",
    "print(info)"
   ]
  },
  {
   "cell_type": "code",
   "execution_count": 11,
   "metadata": {},
   "outputs": [
    {
     "name": "stdout",
     "output_type": "stream",
     "text": [
      "Loaded tables: \n"
     ]
    },
    {
     "data": {
      "text/plain": [
       "┌─────────────────────┐\n",
       "│        name         │\n",
       "│       varchar       │\n",
       "├─────────────────────┤\n",
       "│ _dlt_loads          │\n",
       "│ _dlt_pipeline_state │\n",
       "│ _dlt_version        │\n",
       "│ http_download       │\n",
       "│ people_1            │\n",
       "│ people_2            │\n",
       "│ people_merge        │\n",
       "│ stream_download     │\n",
       "└─────────────────────┘"
      ]
     },
     "metadata": {},
     "output_type": "display_data"
    },
    {
     "name": "stdout",
     "output_type": "stream",
     "text": [
      "\n",
      "\n",
      "\n",
      " people_2 table below:\n"
     ]
    },
    {
     "data": {
      "text/html": [
       "<div>\n",
       "<style scoped>\n",
       "    .dataframe tbody tr th:only-of-type {\n",
       "        vertical-align: middle;\n",
       "    }\n",
       "\n",
       "    .dataframe tbody tr th {\n",
       "        vertical-align: top;\n",
       "    }\n",
       "\n",
       "    .dataframe thead th {\n",
       "        text-align: right;\n",
       "    }\n",
       "</style>\n",
       "<table border=\"1\" class=\"dataframe\">\n",
       "  <thead>\n",
       "    <tr style=\"text-align: right;\">\n",
       "      <th></th>\n",
       "      <th>id</th>\n",
       "      <th>name</th>\n",
       "      <th>age</th>\n",
       "      <th>city</th>\n",
       "      <th>occupation</th>\n",
       "      <th>_dlt_load_id</th>\n",
       "      <th>_dlt_id</th>\n",
       "    </tr>\n",
       "  </thead>\n",
       "  <tbody>\n",
       "    <tr>\n",
       "      <th>0</th>\n",
       "      <td>3</td>\n",
       "      <td>Person_3</td>\n",
       "      <td>33</td>\n",
       "      <td>City_B</td>\n",
       "      <td>Job_3</td>\n",
       "      <td>1708245604.642668</td>\n",
       "      <td>C+wrfTmFHxX6zg</td>\n",
       "    </tr>\n",
       "    <tr>\n",
       "      <th>1</th>\n",
       "      <td>4</td>\n",
       "      <td>Person_4</td>\n",
       "      <td>34</td>\n",
       "      <td>City_B</td>\n",
       "      <td>Job_4</td>\n",
       "      <td>1708245604.642668</td>\n",
       "      <td>c9GpYDVISMc1Bw</td>\n",
       "    </tr>\n",
       "    <tr>\n",
       "      <th>2</th>\n",
       "      <td>5</td>\n",
       "      <td>Person_5</td>\n",
       "      <td>35</td>\n",
       "      <td>City_B</td>\n",
       "      <td>Job_5</td>\n",
       "      <td>1708245604.642668</td>\n",
       "      <td>2otBdtxEktYVeQ</td>\n",
       "    </tr>\n",
       "    <tr>\n",
       "      <th>3</th>\n",
       "      <td>6</td>\n",
       "      <td>Person_6</td>\n",
       "      <td>36</td>\n",
       "      <td>City_B</td>\n",
       "      <td>Job_6</td>\n",
       "      <td>1708245604.642668</td>\n",
       "      <td>VuuC9LqV2CZZMw</td>\n",
       "    </tr>\n",
       "    <tr>\n",
       "      <th>4</th>\n",
       "      <td>7</td>\n",
       "      <td>Person_7</td>\n",
       "      <td>37</td>\n",
       "      <td>City_B</td>\n",
       "      <td>Job_7</td>\n",
       "      <td>1708245604.642668</td>\n",
       "      <td>bhqoDgm8MpUfnQ</td>\n",
       "    </tr>\n",
       "    <tr>\n",
       "      <th>5</th>\n",
       "      <td>8</td>\n",
       "      <td>Person_8</td>\n",
       "      <td>38</td>\n",
       "      <td>City_B</td>\n",
       "      <td>Job_8</td>\n",
       "      <td>1708245604.642668</td>\n",
       "      <td>11E5muXBTGDlhA</td>\n",
       "    </tr>\n",
       "  </tbody>\n",
       "</table>\n",
       "</div>"
      ],
      "text/plain": [
       "   id      name  age    city occupation       _dlt_load_id         _dlt_id\n",
       "0   3  Person_3   33  City_B      Job_3  1708245604.642668  C+wrfTmFHxX6zg\n",
       "1   4  Person_4   34  City_B      Job_4  1708245604.642668  c9GpYDVISMc1Bw\n",
       "2   5  Person_5   35  City_B      Job_5  1708245604.642668  2otBdtxEktYVeQ\n",
       "3   6  Person_6   36  City_B      Job_6  1708245604.642668  VuuC9LqV2CZZMw\n",
       "4   7  Person_7   37  City_B      Job_7  1708245604.642668  bhqoDgm8MpUfnQ\n",
       "5   8  Person_8   38  City_B      Job_8  1708245604.642668  11E5muXBTGDlhA"
      ]
     },
     "metadata": {},
     "output_type": "display_data"
    }
   ],
   "source": [
    "# show outcome\n",
    "conn = duckdb.connect(f\"{generators_pipeline.pipeline_name}.duckdb\")\n",
    "\n",
    "# let's see the tables\n",
    "conn.sql(f\"SET search_path = '{generators_pipeline.dataset_name}'\")\n",
    "print('Loaded tables: ')\n",
    "display(conn.sql(\"show tables\"))\n",
    "\n",
    "# and the data\n",
    "\n",
    "print(\"\\n\\n\\n people_2 table below:\")\n",
    "\n",
    "people_2 = conn.sql(\"SELECT * FROM people_2\").df()\n",
    "display(people_2)"
   ]
  },
  {
   "cell_type": "code",
   "execution_count": 12,
   "metadata": {},
   "outputs": [
    {
     "name": "stdout",
     "output_type": "stream",
     "text": [
      "Loaded tables: \n"
     ]
    },
    {
     "data": {
      "text/plain": [
       "┌─────────────────────┐\n",
       "│        name         │\n",
       "│       varchar       │\n",
       "├─────────────────────┤\n",
       "│ _dlt_loads          │\n",
       "│ _dlt_pipeline_state │\n",
       "│ _dlt_version        │\n",
       "│ http_download       │\n",
       "│ people_1            │\n",
       "│ people_2            │\n",
       "│ people_merge        │\n",
       "│ stream_download     │\n",
       "└─────────────────────┘"
      ]
     },
     "metadata": {},
     "output_type": "display_data"
    },
    {
     "name": "stdout",
     "output_type": "stream",
     "text": [
      "\n",
      "\n",
      "\n",
      " people_append table below:\n"
     ]
    },
    {
     "data": {
      "text/html": [
       "<div>\n",
       "<style scoped>\n",
       "    .dataframe tbody tr th:only-of-type {\n",
       "        vertical-align: middle;\n",
       "    }\n",
       "\n",
       "    .dataframe tbody tr th {\n",
       "        vertical-align: top;\n",
       "    }\n",
       "\n",
       "    .dataframe thead th {\n",
       "        text-align: right;\n",
       "    }\n",
       "</style>\n",
       "<table border=\"1\" class=\"dataframe\">\n",
       "  <thead>\n",
       "    <tr style=\"text-align: right;\">\n",
       "      <th></th>\n",
       "      <th>total_age</th>\n",
       "    </tr>\n",
       "  </thead>\n",
       "  <tbody>\n",
       "    <tr>\n",
       "      <th>0</th>\n",
       "      <td>353.0</td>\n",
       "    </tr>\n",
       "  </tbody>\n",
       "</table>\n",
       "</div>"
      ],
      "text/plain": [
       "   total_age\n",
       "0      353.0"
      ]
     },
     "metadata": {},
     "output_type": "display_data"
    }
   ],
   "source": [
    "conn = duckdb.connect(f\"{generators_pipeline.pipeline_name}.duckdb\")\n",
    "\n",
    "# let's see the tables\n",
    "conn.sql(f\"SET search_path = '{generators_pipeline.dataset_name}'\")\n",
    "print('Loaded tables: ')\n",
    "display(conn.sql(\"show tables\"))\n",
    "\n",
    "# and the data\n",
    "\n",
    "print(\"\\n\\n\\n people_append table below:\")\n",
    "\n",
    "people_append = conn.sql(\n",
    "    \"WITH table_append AS (SELECT id, \\\n",
    "    name,  \\\n",
    "    age, \\\n",
    "    city\\\n",
    "    FROM people_1 \\\n",
    "    UNION ALL \\\n",
    "    (SELECT id, \\\n",
    "    name,  \\\n",
    "    age, \\\n",
    "    city \\\n",
    "    FROM people_2)) \\\n",
    "    SELECT SUM(age) as total_age FROM table_append\").df()\n",
    "\n",
    "display(people_append)"
   ]
  },
  {
   "cell_type": "markdown",
   "metadata": {
    "id": "pY4cFAWOSwN1"
   },
   "source": [
    "# 3. Merge a generator\n",
    "\n",
    "Re-use the generators from Exercise 2.\n",
    "\n",
    "A table's primary key needs to be created from the start, so load your data to a new table with primary key ID.\n",
    "\n",
    "Load your first generator first, and then load the second one with merge. Since they have overlapping IDs, some of the records from the first load should be replaced by the ones from the second load.\n",
    "\n",
    "After loading, you should have a total of 8 records, and ID 3 should have age 33.\n",
    "\n",
    "Question: **Calculate the sum of ages of all the people loaded as described above.**\n"
   ]
  },
  {
   "cell_type": "code",
   "execution_count": 13,
   "metadata": {},
   "outputs": [
    {
     "name": "stdout",
     "output_type": "stream",
     "text": [
      "{'ID': 1, 'Name': 'Person_1', 'Age': 26, 'City': 'City_A'}\n",
      "{'ID': 2, 'Name': 'Person_2', 'Age': 27, 'City': 'City_A'}\n",
      "{'ID': 3, 'Name': 'Person_3', 'Age': 28, 'City': 'City_A'}\n",
      "{'ID': 4, 'Name': 'Person_4', 'Age': 29, 'City': 'City_A'}\n",
      "{'ID': 5, 'Name': 'Person_5', 'Age': 30, 'City': 'City_A'}\n",
      "Pipeline dlt_ipykernel_launcher load step completed in 0.29 seconds\n",
      "1 load package(s) were loaded to destination duckdb and into dataset generators\n",
      "The duckdb destination used duckdb:////workspaces/zoomcamp24/data-engineering-zoomcamp/cohorts/2024/workshops/dlt_resources/dlt_ipykernel_launcher.duckdb location to store data\n",
      "Load package 1708245619.2687063 is LOADED and contains no failed jobs\n"
     ]
    }
   ],
   "source": [
    "def people_1():\n",
    "    for i in range(1, 6):\n",
    "        yield {\"ID\": i, \"Name\": f\"Person_{i}\", \"Age\": 25 + i, \"City\": \"City_A\"}\n",
    "\n",
    "for person in people_1():\n",
    "    print(person)\n",
    "    \n",
    "\n",
    "# define the connection to load to.\n",
    "# We now use duckdb, but you can switch to Bigquery later\n",
    "generators_pipeline = dlt.pipeline(destination='duckdb', dataset_name='generators')\n",
    "\n",
    "\n",
    "# we can load any generator to a table at the pipeline destnation as follows:\n",
    "info = generators_pipeline.run(people_1(),\n",
    "\t\t\t\t\t\t\t\t\t\ttable_name=\"people_merge\",\n",
    "\t\t\t\t\t\t\t\t\t\twrite_disposition=\"replace\")\n",
    "\n",
    "# the outcome metadata is returned by the load and we can inspect it by printing it.\n",
    "print(info)"
   ]
  },
  {
   "cell_type": "code",
   "execution_count": 14,
   "metadata": {},
   "outputs": [
    {
     "name": "stdout",
     "output_type": "stream",
     "text": [
      "Loaded tables: \n"
     ]
    },
    {
     "data": {
      "text/plain": [
       "┌─────────────────────┐\n",
       "│        name         │\n",
       "│       varchar       │\n",
       "├─────────────────────┤\n",
       "│ _dlt_loads          │\n",
       "│ _dlt_pipeline_state │\n",
       "│ _dlt_version        │\n",
       "│ http_download       │\n",
       "│ people_1            │\n",
       "│ people_2            │\n",
       "│ people_merge        │\n",
       "│ stream_download     │\n",
       "└─────────────────────┘"
      ]
     },
     "metadata": {},
     "output_type": "display_data"
    }
   ],
   "source": [
    "conn = duckdb.connect(f\"{generators_pipeline.pipeline_name}.duckdb\")\n",
    "\n",
    "# let's see the tables\n",
    "conn.sql(f\"SET search_path = '{generators_pipeline.dataset_name}'\")\n",
    "print('Loaded tables: ')\n",
    "display(conn.sql(\"show tables\"))"
   ]
  },
  {
   "cell_type": "code",
   "execution_count": 15,
   "metadata": {},
   "outputs": [
    {
     "name": "stdout",
     "output_type": "stream",
     "text": [
      "{'ID': 3, 'Name': 'Person_3', 'Age': 33, 'City': 'City_B', 'Occupation': 'Job_3'}\n",
      "{'ID': 4, 'Name': 'Person_4', 'Age': 34, 'City': 'City_B', 'Occupation': 'Job_4'}\n",
      "{'ID': 5, 'Name': 'Person_5', 'Age': 35, 'City': 'City_B', 'Occupation': 'Job_5'}\n",
      "{'ID': 6, 'Name': 'Person_6', 'Age': 36, 'City': 'City_B', 'Occupation': 'Job_6'}\n",
      "{'ID': 7, 'Name': 'Person_7', 'Age': 37, 'City': 'City_B', 'Occupation': 'Job_7'}\n",
      "{'ID': 8, 'Name': 'Person_8', 'Age': 38, 'City': 'City_B', 'Occupation': 'Job_8'}\n",
      "Pipeline dlt_ipykernel_launcher load step completed in 0.44 seconds\n",
      "1 load package(s) were loaded to destination duckdb and into dataset generators\n",
      "The duckdb destination used duckdb:////workspaces/zoomcamp24/data-engineering-zoomcamp/cohorts/2024/workshops/dlt_resources/dlt_ipykernel_launcher.duckdb location to store data\n",
      "Load package 1708245646.6590178 is LOADED and contains no failed jobs\n"
     ]
    }
   ],
   "source": [
    "def people_2():\n",
    "    for i in range(3, 9):\n",
    "        yield {\"ID\": i, \"Name\": f\"Person_{i}\", \"Age\": 30 + i, \"City\": \"City_B\", \"Occupation\": f\"Job_{i}\"}\n",
    "\n",
    "for person in people_2():\n",
    "    print(person)\n",
    "\n",
    "\n",
    "# define the connection to load to.\n",
    "# We now use duckdb, but you can switch to Bigquery later\n",
    "generators_pipeline = dlt.pipeline(destination='duckdb', dataset_name='generators')\n",
    "\n",
    "# we can load any generator to a table at the pipeline destnation as follows:\n",
    "info = generators_pipeline.run(people_2(),\n",
    "\t\t\t\t\t\t\t\t\t\ttable_name=\"people_merge\",\n",
    "\t\t\t\t\t\t\t\t\t\twrite_disposition=\"merge\",\n",
    "                                        primary_key='id')\n",
    "\n",
    "print(info)"
   ]
  },
  {
   "cell_type": "code",
   "execution_count": 16,
   "metadata": {},
   "outputs": [
    {
     "name": "stdout",
     "output_type": "stream",
     "text": [
      "\n",
      "\n",
      "\n",
      " people_merge table below:\n"
     ]
    },
    {
     "data": {
      "text/html": [
       "<div>\n",
       "<style scoped>\n",
       "    .dataframe tbody tr th:only-of-type {\n",
       "        vertical-align: middle;\n",
       "    }\n",
       "\n",
       "    .dataframe tbody tr th {\n",
       "        vertical-align: top;\n",
       "    }\n",
       "\n",
       "    .dataframe thead th {\n",
       "        text-align: right;\n",
       "    }\n",
       "</style>\n",
       "<table border=\"1\" class=\"dataframe\">\n",
       "  <thead>\n",
       "    <tr style=\"text-align: right;\">\n",
       "      <th></th>\n",
       "      <th>total_age</th>\n",
       "    </tr>\n",
       "  </thead>\n",
       "  <tbody>\n",
       "    <tr>\n",
       "      <th>0</th>\n",
       "      <td>266.0</td>\n",
       "    </tr>\n",
       "  </tbody>\n",
       "</table>\n",
       "</div>"
      ],
      "text/plain": [
       "   total_age\n",
       "0      266.0"
      ]
     },
     "metadata": {},
     "output_type": "display_data"
    }
   ],
   "source": [
    "print(\"\\n\\n\\n people_merge table below:\")\n",
    "\n",
    "people_merge = conn.sql(\n",
    "    \"SELECT SUM(age) as total_age FROM people_merge\").df()\n",
    "\n",
    "display(people_merge)"
   ]
  },
  {
   "cell_type": "markdown",
   "metadata": {
    "id": "kKB2GTB9oVjr"
   },
   "source": [
    "# Solution: First make sure that the following modules are installed:"
   ]
  },
  {
   "cell_type": "code",
   "execution_count": null,
   "metadata": {
    "id": "xTVvtyqrfVNq"
   },
   "outputs": [],
   "source": [
    "#Install the dependencies\n",
    "%%capture\n",
    "!pip install dlt[duckdb]"
   ]
  },
  {
   "cell_type": "code",
   "execution_count": null,
   "metadata": {
    "id": "a2-PRBAkGC2K"
   },
   "outputs": [],
   "source": [
    "# to do: homework :)"
   ]
  },
  {
   "cell_type": "markdown",
   "metadata": {
    "id": "PoTJu4kbGG0z"
   },
   "source": [
    "Questions? difficulties? We are here to help.\n",
    "- DTC data engineering course channel: https://datatalks-club.slack.com/archives/C01FABYF2RG\n",
    "- dlt's DTC cohort channel: https://dlthub-community.slack.com/archives/C06GAEX2VNX"
   ]
  }
 ],
 "metadata": {
  "colab": {
   "provenance": []
  },
  "kernelspec": {
   "display_name": "Python 3 (ipykernel)",
   "language": "python",
   "name": "python3"
  },
  "language_info": {
   "codemirror_mode": {
    "name": "ipython",
    "version": 3
   },
   "file_extension": ".py",
   "mimetype": "text/x-python",
   "name": "python",
   "nbconvert_exporter": "python",
   "pygments_lexer": "ipython3",
   "version": "3.10.13"
  }
 },
 "nbformat": 4,
 "nbformat_minor": 4
}
