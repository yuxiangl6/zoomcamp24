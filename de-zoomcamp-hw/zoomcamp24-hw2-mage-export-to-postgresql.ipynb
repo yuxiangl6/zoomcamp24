{
 "cells": [
  {
   "cell_type": "code",
   "execution_count": null,
   "id": "ead3ae0c-4b97-4737-aff1-cb349c16631c",
   "metadata": {},
   "outputs": [],
   "source": [
    "from mage_ai.settings.repo import get_repo_path\n",
    "from mage_ai.io.config import ConfigFileLoader\n",
    "from mage_ai.io.postgres import Postgres\n",
    "from pandas import DataFrame\n",
    "from os import path\n",
    "\n",
    "\n",
    "if 'data_exporter' not in globals():\n",
    "    from mage_ai.data_preparation.decorators import data_exporter\n",
    "\n",
    "\n",
    "@data_exporter\n",
    "def export_data_to_postgres(df: DataFrame, **kwargs) -> None:\n",
    "    \"\"\"\n",
    "    Template for exporting data to a PostgreSQL database.\n",
    "    Specify your configuration settings in 'io_config.yaml'.\n",
    "\n",
    "    Docs: https://docs.mage.ai/design/data-loading#postgresql\n",
    "    \"\"\"\n",
    "    schema_name = 'mage'  # Specify the name of the schema to export data to\n",
    "    table_name = 'green_taxi'  # Specify the name of the table to export data to\n",
    "    config_path = path.join(get_repo_path(), 'io_config.yaml')\n",
    "    config_profile = 'default'\n",
    "\n",
    "    with Postgres.with_config(ConfigFileLoader(config_path, config_profile)) as loader:\n",
    "        loader.export(\n",
    "            df,\n",
    "            schema_name,\n",
    "            table_name,\n",
    "            index=False,  # Specifies whether to include index in exported table\n",
    "            if_exists='replace',  # Specify resolution policy if table name already exists\n",
    "        )\n"
   ]
  }
 ],
 "metadata": {
  "kernelspec": {
   "display_name": "Python 3 (ipykernel)",
   "language": "python",
   "name": "python3"
  },
  "language_info": {
   "codemirror_mode": {
    "name": "ipython",
    "version": 3
   },
   "file_extension": ".py",
   "mimetype": "text/x-python",
   "name": "python",
   "nbconvert_exporter": "python",
   "pygments_lexer": "ipython3",
   "version": "3.12.1"
  }
 },
 "nbformat": 4,
 "nbformat_minor": 5
}
