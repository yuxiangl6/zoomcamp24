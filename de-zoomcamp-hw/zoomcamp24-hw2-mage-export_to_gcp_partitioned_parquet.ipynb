{
 "cells": [
  {
   "cell_type": "code",
   "execution_count": null,
   "id": "145a5e27-996a-4e2a-80e5-177aff6cfb47",
   "metadata": {},
   "outputs": [],
   "source": [
    "import pyarrow as pa\n",
    "import pyarrow.parquet as pq\n",
    "import os\n",
    "\n",
    "if 'data_exporter' not in globals():\n",
    "    from mage_ai.data_preparation.decorators import data_exporter\n",
    "\n",
    "os.environ['GOOGLE_APPLICATION_CREDENTIALS'] = \"/home/src/focused-elysium-411215-803ca59cd6e4.json\"\n",
    "\n",
    "bucket_name = 'mage-zoomcamp-yx-1'\n",
    "project_id = 'focused-elysium-411215'\n",
    "\n",
    "table_name = 'green_taxi'\n",
    "\n",
    "root_path = f'{bucket_name}/{table_name}'\n",
    "\n",
    "\n",
    "@data_exporter\n",
    "def export_data(data, *args, **kwargs):\n",
    "    \"\"\"\n",
    "    Exports data to some source.\n",
    "\n",
    "    Args:\n",
    "        data: The output from the upstream parent block\n",
    "        args: The output from any additional upstream blocks (if applicable)\n",
    "\n",
    "    Output (optional):\n",
    "        Optionally return any object and it'll be logged and\n",
    "        displayed when inspecting the block run.\n",
    "    \"\"\"\n",
    "    data['lpep_pickup_date'] = data['lpep_pickup_datetime'].dt.date\n",
    "\n",
    "    table = pa.Table.from_pandas(data)\n",
    "\n",
    "    gcs = pa.fs.GcsFileSystem()\n",
    "\n",
    "    pq.write_to_dataset(\n",
    "        table,\n",
    "        root_path = root_path,\n",
    "        partition_cols = ['lpep_pickup_date'],\n",
    "        filesystem = gcs\n",
    "    )\n",
    "\n",
    "\n"
   ]
  }
 ],
 "metadata": {
  "kernelspec": {
   "display_name": "Python 3 (ipykernel)",
   "language": "python",
   "name": "python3"
  },
  "language_info": {
   "codemirror_mode": {
    "name": "ipython",
    "version": 3
   },
   "file_extension": ".py",
   "mimetype": "text/x-python",
   "name": "python",
   "nbconvert_exporter": "python",
   "pygments_lexer": "ipython3",
   "version": "3.12.1"
  }
 },
 "nbformat": 4,
 "nbformat_minor": 5
}
