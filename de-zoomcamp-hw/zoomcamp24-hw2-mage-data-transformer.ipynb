{
 "cells": [
  {
   "cell_type": "code",
   "execution_count": null,
   "id": "23637e79-b265-4719-ad45-ed5406b319fa",
   "metadata": {},
   "outputs": [],
   "source": [
    "from pandas import DataFrame\n",
    "import pandas as pd\n",
    "import pyarrow as pa\n",
    "import pyarrow.parquet as pq\n",
    "from datetime import datetime\n",
    "import os\n",
    "\n",
    "if 'transformer' not in globals():\n",
    "    from mage_ai.data_preparation.decorators import transformer\n",
    "if 'test' not in globals():\n",
    "    from mage_ai.data_preparation.decorators import test\n",
    "\n",
    "\n",
    "@transformer\n",
    "def transform(data, *args, **kwargs):\n",
    "    \"\"\"\n",
    "    Template code for a transformer block.\n",
    "\n",
    "    Add more parameters to this function if this block has multiple parent blocks.\n",
    "    There should be one parameter for each output variable from each parent block.\n",
    "\n",
    "    Args:\n",
    "        data: The output from the upstream parent block\n",
    "        args: The output from any additional upstream blocks (if applicable)\n",
    "\n",
    "    Returns:\n",
    "        Anything (e.g. data frame, dictionary, array, int, str, etc.)\n",
    "    \"\"\"\n",
    "    \n",
    "    data['lpep_pickup_date'] = data['lpep_pickup_datetime'].dt.date\n",
    "    data = data.rename(columns={\"VendorID\": \"vendor_id\"\n",
    "                                ,\"RatecodeID\": \"ratecode_id\", \n",
    "                                \"PULocationID\": \"pu_location_id\", \n",
    "                                \"DOLocationID\": \"do_location_id\"\n",
    "                                })\n",
    "\n",
    "    return data[(data['passenger_count'] > 0) & (data['trip_distance'] > 0)]\n",
    "\n",
    "\n",
    "@test\n",
    "def test_output_passenger_count(output, *args) -> None:\n",
    "    \"\"\"\n",
    "    Template code for testing the output of the block.\n",
    "    \"\"\"\n",
    "    assert output['passenger_count'].isin([0]).sum() == 0, 'There are rides with 0 passengers'\n",
    "    assert output['trip_distance'].isin([0]).sum() == 0, 'There are trips with 0 distance'\n",
    "    assert \"vendor_id\" in output.columns, 'vendor_id column does not exist'\n",
    "    # assert \"ratecode_id\" in output.columns, 'ratecode_id column does not exist'\n",
    "    # assert \"pu_location_id\" in output.columns, 'pu_location_id column does not exist'\n",
    "    # assert \"do_location_id\" in output.columns, 'do_location_id column does not exist'\n",
    "    "
   ]
  }
 ],
 "metadata": {
  "kernelspec": {
   "display_name": "Python 3 (ipykernel)",
   "language": "python",
   "name": "python3"
  },
  "language_info": {
   "codemirror_mode": {
    "name": "ipython",
    "version": 3
   },
   "file_extension": ".py",
   "mimetype": "text/x-python",
   "name": "python",
   "nbconvert_exporter": "python",
   "pygments_lexer": "ipython3",
   "version": "3.12.1"
  }
 },
 "nbformat": 4,
 "nbformat_minor": 5
}
